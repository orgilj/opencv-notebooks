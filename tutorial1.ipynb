{
 "metadata": {
  "name": "",
  "signature": "sha256:45347e719d47a961fc323d2544748d878978d665ebf19eacd57a7852ce63f7e0"
 },
 "nbformat": 3,
 "nbformat_minor": 0,
 "worksheets": [
  {
   "cells": [
    {
     "cell_type": "markdown",
     "metadata": {},
     "source": [
      "# Heading1"
     ]
    },
    {
     "cell_type": "code",
     "collapsed": false,
     "input": [],
     "language": "python",
     "metadata": {},
     "outputs": []
    }
   ],
   "metadata": {}
  }
 ]
}